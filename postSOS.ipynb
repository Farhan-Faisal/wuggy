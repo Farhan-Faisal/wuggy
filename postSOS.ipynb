{
 "cells": [
  {
   "cell_type": "code",
   "execution_count": 1,
   "metadata": {},
   "outputs": [],
   "source": [
    "from wuggy import WuggyGenerator\n",
    "import os\n",
    "import pandas as pd"
   ]
  },
  {
   "cell_type": "code",
   "execution_count": 2,
   "metadata": {},
   "outputs": [],
   "source": [
    "directory = '/Users/farhan/Desktop/Baycrest Documents/Aphasia_Study/Aphasia_STM_stim_generation/Syllable_Project/wordLists'\n",
    "outputDirectory = '/Users/farhan/Desktop/Baycrest Documents/Aphasia_Study/Aphasia_STM_stim_generation/Syllable_Project/nonWordLists'"
   ]
  },
  {
   "cell_type": "markdown",
   "metadata": {},
   "source": [
    "___\n",
    "- Generates nonWordList for every file in wordList folder\n",
    "- Prints out the filenames which contain words not found in lexicon\n",
    "___"
   ]
  },
  {
   "cell_type": "code",
   "execution_count": 3,
   "metadata": {},
   "outputs": [],
   "source": [
    "## Initialize the Wuggy Object\n",
    "g = WuggyGenerator()\n",
    "g.load(\"orthographic_english\")\n",
    "\n",
    "# Loop over all files in wordLists folder\n",
    "for filename in os.listdir(directory):\n",
    "    path = directory + '/' + filename\n",
    "    wordListFile = pd.read_csv(path, sep='\\t')\n",
    "    wordList = wordListFile['Word|s'].to_list()\n",
    "    \n",
    "    ## Get corresponding pseudoword for every word in the nonWordList\n",
    "    nonWordList = []\n",
    "\n",
    "    for word in wordList:\n",
    "        try:\n",
    "            matches = g.generate_classic([word], ncandidates_per_sequence=10, max_search_time_per_sequence=5)\n",
    "            ## Taking the first generated pseudoword for each word\n",
    "            nonWordList.append(matches[0]['pseudoword'])\n",
    "        except:\n",
    "            print(filename, word)\n",
    "            nonWordList.append(\"notInLexicon\")\n",
    "\n",
    "    nonWordDF = pd.DataFrame (nonWordList, columns = ['nonWord'])\n",
    "    outputPath = outputDirectory + '/' + 'non' + filename\n",
    "    nonWordDF.to_csv(outputPath, sep='\\t', index=False)"
   ]
  }
 ],
 "metadata": {
  "kernelspec": {
   "display_name": "Python 3.9.7 64-bit",
   "language": "python",
   "name": "python3"
  },
  "language_info": {
   "codemirror_mode": {
    "name": "ipython",
    "version": 3
   },
   "file_extension": ".py",
   "mimetype": "text/x-python",
   "name": "python",
   "nbconvert_exporter": "python",
   "pygments_lexer": "ipython3",
   "version": "3.9.7"
  },
  "orig_nbformat": 4,
  "vscode": {
   "interpreter": {
    "hash": "aee8b7b246df8f9039afb4144a1f6fd8d2ca17a180786b69acc140d282b71a49"
   }
  }
 },
 "nbformat": 4,
 "nbformat_minor": 2
}
